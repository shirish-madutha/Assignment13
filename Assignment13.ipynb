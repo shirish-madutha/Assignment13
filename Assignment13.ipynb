{
 "cells": [
  {
   "cell_type": "code",
   "execution_count": null,
   "id": "8afc4142-739a-40f6-9055-c477f705a9d4",
   "metadata": {},
   "outputs": [],
   "source": [
    "\"\"\" Q1. Explain why we have to use the Exception class while creating a Custom Exception. \"\"\"\n",
    "\n",
    "# ans\n",
    "\"\"\" In Python, when we create a custom exception, we usually want it to inherit from the built-in Exception class. \n",
    "This is because Exception is the base class for all built-in exceptions in Python, and it provides a \n",
    "standard interface for handling and raising exceptions.\n",
    "\n",
    "By inheriting from Exception, our custom exception will have access to all the methods and attributes of the Exception class,\n",
    "such as __str__ and args, which allow us to define a string representation and arguments for our exception. \"\"\""
   ]
  },
  {
   "cell_type": "code",
   "execution_count": 28,
   "id": "6d09c400-84e1-4c20-965e-e39648cfe380",
   "metadata": {},
   "outputs": [
    {
     "name": "stdout",
     "output_type": "stream",
     "text": [
      "BaseException -> Exception -> BaseException\n"
     ]
    }
   ],
   "source": [
    "\"\"\" Q2. Write a python program to print Python Exception Hierarchy. \"\"\"\n",
    "\n",
    "import sys\n",
    "\n",
    "def print_exception_hierarchy():\n",
    "    \"\"\"\n",
    "    Prints the Python Exception Hierarchy.\n",
    "    \"\"\"\n",
    "    exceptions = list(sys.modules[__name__].__dict__.values())\n",
    "    # Get a list of all defined exception classes in the current module\n",
    "\n",
    "    for exc in exceptions:\n",
    "        if isinstance(exc, type) and issubclass(exc, BaseException):\n",
    "            print(f\"{exc.__name__} -> \", end=\"\")\n",
    "            # Print the name of the exception class\n",
    "\n",
    "            for base in exc.__bases__:\n",
    "                if base.__name__ != \"BaseException\":\n",
    "                    print(f\"{base.__name__} -> \", end=\"\")\n",
    "                    # Print the name of the base class of the exception\n",
    "            print(\"BaseException\")\n",
    "            # Print BaseException at the end of each exception hierarchy\n",
    "print_exception_hierarchy()"
   ]
  },
  {
   "cell_type": "code",
   "execution_count": 29,
   "id": "020ab46c-36cd-40ee-8fb5-95620e1127e3",
   "metadata": {},
   "outputs": [
    {
     "name": "stdout",
     "output_type": "stream",
     "text": [
      "Error: division by zero\n"
     ]
    }
   ],
   "source": [
    "\"\"\" Q3. What errors are defined in the ArithmeticError class? Explain any two with an example. \"\"\"\n",
    "\n",
    "# ans\n",
    "\"\"\" The ArithmeticError class is a built-in Python exception class that represents errors that occur during \n",
    "arithmetic operations. This class is the base class for all arithmetic-related exceptions in Python.\n",
    "\n",
    "Some of the exceptions that are defined in the ArithmeticError class include:\n",
    "\n",
    "1.ZeroDivisionError: This exception is raised when a number is divided by zero. \"\"\"\n",
    "# Example: \n",
    "x = 5\n",
    "y = 0\n",
    "\n",
    "try:\n",
    "    result = x/y\n",
    "except ZeroDivisionError:\n",
    "    print(\"Error: division by zero\")"
   ]
  },
  {
   "cell_type": "code",
   "execution_count": null,
   "id": "f4626f22-ac5b-4818-8784-fa580a6325a1",
   "metadata": {},
   "outputs": [],
   "source": [
    "\"\"\" 2.OverflowError: This error occurs when the result of an arithmetic operation exceeds the maximum \n",
    "representable value for a particular data type. \"\"\"\n",
    "\n",
    "# Example\n",
    "\n",
    "try:\n",
    "    a = int(2 ** 100000)\n",
    "    result = int(a * a)\n",
    "    print(result)\n",
    "except OverflowError as e:\n",
    "    print(f\"Error: {e}\")"
   ]
  },
  {
   "cell_type": "code",
   "execution_count": 41,
   "id": "2040165b-6409-42cf-a748-b4f9537deca6",
   "metadata": {},
   "outputs": [
    {
     "name": "stdout",
     "output_type": "stream",
     "text": [
      "Error: 'd' not found in dictionary\n"
     ]
    }
   ],
   "source": [
    "\"\"\" Q4. Why LookupError class is used? Explain with an example KeyError and IndexError. \"\"\"\n",
    "\n",
    "# ans\n",
    "\"\"\" The LookupError class is a built-in exception class in Python that serves as the base class for \n",
    "several other exception classes related to lookup or indexing errors.\n",
    "It is used to handle errors that occur when attempting to access an element in a collection, such as\n",
    "a list or dictionary, that doesn't exist or is out of bounds. \"\"\"\n",
    "\n",
    "\"\"\"1.KeyError: This exception is raised when attempting to access a key in a dictionary that doesn't exist.\"\"\"\n",
    "# example\n",
    "my_dict = {'a': 1, 'b': 2, 'c': 3}\n",
    "try:\n",
    "    value = my_dict['d']\n",
    "    print(value)\n",
    "except KeyError as e:\n",
    "    print(f\"Error: {e} not found in dictionary\")"
   ]
  },
  {
   "cell_type": "code",
   "execution_count": 42,
   "id": "6e4487a3-d32f-4ab8-b9e0-192f4a13bb57",
   "metadata": {},
   "outputs": [
    {
     "name": "stdout",
     "output_type": "stream",
     "text": [
      "Error: Index list index out of range out of range for list\n"
     ]
    }
   ],
   "source": [
    "\"\"\" IndexError: This exception is raised when attempting to access an element in a sequence, such as \n",
    "a list or tuple, that is out of bounds. \"\"\"\n",
    "# example\n",
    "my_list = [1, 2, 3]\n",
    "try:\n",
    "    value = my_list[3]\n",
    "    print(value)\n",
    "except IndexError as e:\n",
    "    print(f\"Error: Index {e.args[0]} out of range for list\")"
   ]
  },
  {
   "cell_type": "code",
   "execution_count": null,
   "id": "9a9759f2-6c43-4780-9b08-d8a860816271",
   "metadata": {},
   "outputs": [],
   "source": [
    "\"\"\" Q5. Explain ImportError. What is ModuleNotFoundError? \"\"\"\n",
    "\n",
    "# ans\n",
    "\"\"\" ImportError and ModuleNotFoundError are two built-in Python exceptions that are raised when \n",
    "there is an error importing a module in Python.\n",
    "\n",
    "ImportError is a general exception that is raised when a module could not be imported.\n",
    "It occurs when the interpreter cannot locate the module or when there is a problem with the module itself.\n",
    "\n",
    "ModuleNotFoundError is a subclass of ImportError that is raised when a module could not be found during import.\"\"\"\n"
   ]
  },
  {
   "cell_type": "code",
   "execution_count": null,
   "id": "ccc92d00-d69c-4a6e-9d23-78cd662edb8d",
   "metadata": {},
   "outputs": [],
   "source": [
    "\"\"\" Q6. List down some best practices for exception handling in python. \"\"\"\n",
    "\n",
    "# ans\n",
    "\"\"\" Here are some best practices for exception handling in Python:\n",
    "\n",
    "Catch specific exceptions: Catch only the exceptions that you know how to handle, and catch them as specifically \n",
    "as possible. Avoid using a generic except statement, as this can mask errors that you didn't anticipate.\n",
    "\n",
    "Use try-except blocks sparingly: Use try-except blocks only for code that can raise exceptions. \n",
    "Don't use them for flow control or to handle errors that could be prevented with simple if statements.\n",
    "\n",
    "Provide useful error messages: When you catch an exception, provide a clear and informative error \n",
    "message that explains what went wrong and how the user can resolve the issue.\n",
    "\n",
    "Handle exceptions at the appropriate level: Handle exceptions at the appropriate level of your code. \n",
    "If you can't handle the exception, don't catch it; instead, let it propagate up the call stack to a level that can handle it.\n",
    "\n",
    "Use context managers: Use context managers like with statements to automatically handle resources like \n",
    "files, network connections, and locks. This ensures that these resources are properly cleaned up, even if an exception occurs.\n",
    "\n",
    "Avoid catching Exception: Avoid catching the base Exception class, as this can mask unexpected errors.\n",
    "Instead, catch only the specific exceptions that you know how to handle.\n",
    "\n",
    "Log exceptions: Use a logging framework like logging to log exceptions and other errors. \n",
    "This makes it easier to debug problems and identify trends in your application's behavior.\"\"\""
   ]
  }
 ],
 "metadata": {
  "kernelspec": {
   "display_name": "Python 3 (ipykernel)",
   "language": "python",
   "name": "python3"
  },
  "language_info": {
   "codemirror_mode": {
    "name": "ipython",
    "version": 3
   },
   "file_extension": ".py",
   "mimetype": "text/x-python",
   "name": "python",
   "nbconvert_exporter": "python",
   "pygments_lexer": "ipython3",
   "version": "3.10.8"
  }
 },
 "nbformat": 4,
 "nbformat_minor": 5
}
